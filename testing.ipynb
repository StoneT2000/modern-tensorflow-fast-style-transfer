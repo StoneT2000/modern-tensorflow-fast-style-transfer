{
 "cells": [
  {
   "cell_type": "code",
   "execution_count": 1,
   "metadata": {},
   "outputs": [],
   "source": [
    "import tensorflow as tf\n",
    "from tensorflow.keras import layers\n",
    "import numpy as np\n",
    "import transform\n",
    "import matplotlib.pyplot as plt\n",
    "from model import get_vgg_model"
   ]
  },
  {
   "cell_type": "code",
   "execution_count": 2,
   "metadata": {},
   "outputs": [],
   "source": [
    "model = get_vgg_model()"
   ]
  },
  {
   "cell_type": "code",
   "execution_count": 3,
   "metadata": {},
   "outputs": [],
   "source": [
    "img = plt.imread(\"images/style/wave.jpg\")"
   ]
  },
  {
   "cell_type": "code",
   "execution_count": 4,
   "metadata": {},
   "outputs": [],
   "source": [
    "def parse_image(img, size=(224, 224)):\n",
    "    return tf.image.resize(img, size)\n",
    "def process_image_for_vgg_model(img):\n",
    "    processed = tf.keras.applications.vgg19.preprocess_input(img)\n",
    "    return parse_image(processed)"
   ]
  },
  {
   "cell_type": "code",
   "execution_count": 13,
   "metadata": {},
   "outputs": [],
   "source": [
    "extractor = tf.keras.Model(inputs=model.inputs, outputs=[model.layers[21].output])"
   ]
  },
  {
   "cell_type": "code",
   "execution_count": 14,
   "metadata": {},
   "outputs": [],
   "source": [
    "res = extractor(np.array([process_image_for_vgg_model(img)]))"
   ]
  },
  {
   "cell_type": "code",
   "execution_count": 25,
   "metadata": {},
   "outputs": [
    {
     "data": {
      "text/plain": [
       "TensorShape([1, 28, 28, 512])"
      ]
     },
     "execution_count": 25,
     "metadata": {},
     "output_type": "execute_result"
    }
   ],
   "source": [
    "res.get_shape()"
   ]
  },
  {
   "cell_type": "code",
   "execution_count": 27,
   "metadata": {},
   "outputs": [
    {
     "data": {
      "text/plain": [
       "<tf.Tensor: shape=(28, 14336), dtype=float32, numpy=\n",
       "array([[   0.      ,    0.      ,   29.23805 , ...,  105.466034,\n",
       "         112.91182 ,    0.      ],\n",
       "       [   0.      ,    0.      ,    0.      , ...,    0.      ,\n",
       "         353.00723 ,    0.      ],\n",
       "       [ 471.05264 ,    0.      ,    0.      , ...,    0.      ,\n",
       "         328.0361  ,    0.      ],\n",
       "       ...,\n",
       "       [2485.288   ,    0.      ,    0.      , ..., 3062.9434  ,\n",
       "        1515.7535  , 2407.9702  ],\n",
       "       [1523.0756  ,    0.      ,    0.      , ..., 1672.4797  ,\n",
       "        2014.6669  , 1437.8273  ],\n",
       "       [ 539.79083 ,  368.05673 ,    0.      , ...,  945.0028  ,\n",
       "         981.1016  ,  943.4508  ]], dtype=float32)>"
      ]
     },
     "execution_count": 27,
     "metadata": {},
     "output_type": "execute_result"
    }
   ],
   "source": [
    "tf.reshape(res, (28, 28 * 512))"
   ]
  },
  {
   "cell_type": "code",
   "execution_count": null,
   "metadata": {},
   "outputs": [],
   "source": []
  }
 ],
 "metadata": {
  "kernelspec": {
   "display_name": "Python 3",
   "language": "python",
   "name": "python3"
  },
  "language_info": {
   "codemirror_mode": {
    "name": "ipython",
    "version": 3
   },
   "file_extension": ".py",
   "mimetype": "text/x-python",
   "name": "python",
   "nbconvert_exporter": "python",
   "pygments_lexer": "ipython3",
   "version": "3.7.9"
  }
 },
 "nbformat": 4,
 "nbformat_minor": 4
}
